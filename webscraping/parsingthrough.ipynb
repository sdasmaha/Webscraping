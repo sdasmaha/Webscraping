{
 "cells": [
  {
   "cell_type": "code",
   "execution_count": 1,
   "metadata": {},
   "outputs": [],
   "source": [
    "import pandas as pd\n"
   ]
  },
  {
   "cell_type": "code",
   "execution_count": 2,
   "metadata": {},
   "outputs": [],
   "source": [
    "df = pd.read_csv(\"Flatfile.csv\")"
   ]
  },
  {
   "cell_type": "code",
   "execution_count": 3,
   "metadata": {},
   "outputs": [
    {
     "data": {
      "text/plain": [
       "name                            object\n",
       "modelDate                        int64\n",
       "manufacturer                    object\n",
       "model                           object\n",
       "color                           object\n",
       "imageUrl                        object\n",
       "brand                           object\n",
       "description                     object\n",
       "mileageFromOdometer              int64\n",
       "sku                              int64\n",
       "vehicleIdentificationNumber     object\n",
       "offers                          object\n",
       "itemListElement                float64\n",
       "dtype: object"
      ]
     },
     "execution_count": 3,
     "metadata": {},
     "output_type": "execute_result"
    }
   ],
   "source": [
    "df.dtypes"
   ]
  },
  {
   "cell_type": "code",
   "execution_count": 4,
   "metadata": {},
   "outputs": [],
   "source": [
    "df = df.drop(['itemListElement','offers'], axis = 'columns')\n",
    "#df.head(5)"
   ]
  },
  {
   "cell_type": "code",
   "execution_count": 5,
   "metadata": {},
   "outputs": [],
   "source": [
    "df['Price'] = df['description'].str[-8:]"
   ]
  },
  {
   "cell_type": "code",
   "execution_count": 6,
   "metadata": {},
   "outputs": [],
   "source": [
    "#df['name_len'] = df['name'].str.len()"
   ]
  },
  {
   "cell_type": "code",
   "execution_count": 8,
   "metadata": {},
   "outputs": [],
   "source": [
    "df[['delete1','desc_new', 'delete2']] = df['description'].str.split(pat = 'Used | with', expand = True)\n",
    "df = df.drop(['delete1','delete2'], axis = 'columns')\n",
    "#df['desc_new_len'] = df['desc_new'].str.len()\n",
    "#df['subtract'] = df['desc_new_len'] - df['name_len']\n",
    "df['Trim'] = df['desc_new']\n",
    "df['Trim'] = [a.replace(b, '').strip() for a, b in zip(df['desc_new'], df['name'])]  #Most Important code right here!!!\n"
   ]
  },
  {
   "cell_type": "code",
   "execution_count": 10,
   "metadata": {},
   "outputs": [
    {
     "data": {
      "text/html": [
       "<div>\n",
       "<style scoped>\n",
       "    .dataframe tbody tr th:only-of-type {\n",
       "        vertical-align: middle;\n",
       "    }\n",
       "\n",
       "    .dataframe tbody tr th {\n",
       "        vertical-align: top;\n",
       "    }\n",
       "\n",
       "    .dataframe thead th {\n",
       "        text-align: right;\n",
       "    }\n",
       "</style>\n",
       "<table border=\"1\" class=\"dataframe\">\n",
       "  <thead>\n",
       "    <tr style=\"text-align: right;\">\n",
       "      <th></th>\n",
       "      <th>name</th>\n",
       "      <th>modelDate</th>\n",
       "      <th>manufacturer</th>\n",
       "      <th>model</th>\n",
       "      <th>color</th>\n",
       "      <th>imageUrl</th>\n",
       "      <th>brand</th>\n",
       "      <th>description</th>\n",
       "      <th>mileageFromOdometer</th>\n",
       "      <th>sku</th>\n",
       "      <th>vehicleIdentificationNumber</th>\n",
       "      <th>Price</th>\n",
       "      <th>desc_new</th>\n",
       "      <th>Trim</th>\n",
       "    </tr>\n",
       "  </thead>\n",
       "  <tbody>\n",
       "    <tr>\n",
       "      <th>0</th>\n",
       "      <td>2021 Maserati Levante</td>\n",
       "      <td>2021</td>\n",
       "      <td>Maserati</td>\n",
       "      <td>Levante</td>\n",
       "      <td>White</td>\n",
       "      <td>//cdnblob.fastly.carvana.io/2002115999/post-la...</td>\n",
       "      <td>Maserati</td>\n",
       "      <td>Used 2021 Maserati Levante S GranLusso with 19...</td>\n",
       "      <td>19722</td>\n",
       "      <td>2002115999</td>\n",
       "      <td>ZN661YUL5MX363075</td>\n",
       "      <td>$61,590</td>\n",
       "      <td>2021 Maserati Levante S GranLusso</td>\n",
       "      <td>S GranLusso</td>\n",
       "    </tr>\n",
       "    <tr>\n",
       "      <th>1</th>\n",
       "      <td>2019 Jeep Compass</td>\n",
       "      <td>2019</td>\n",
       "      <td>Jeep</td>\n",
       "      <td>Compass</td>\n",
       "      <td>Black</td>\n",
       "      <td>//cdnblob.fastly.carvana.io/2002315866/post-la...</td>\n",
       "      <td>Jeep</td>\n",
       "      <td>Used 2019 Jeep Compass Upland with 21642 miles...</td>\n",
       "      <td>21642</td>\n",
       "      <td>2002315866</td>\n",
       "      <td>3C4NJDAB9KT854078</td>\n",
       "      <td>$25,990</td>\n",
       "      <td>2019 Jeep Compass Upland</td>\n",
       "      <td>Upland</td>\n",
       "    </tr>\n",
       "    <tr>\n",
       "      <th>2</th>\n",
       "      <td>2021 Jeep Gladiator</td>\n",
       "      <td>2021</td>\n",
       "      <td>Jeep</td>\n",
       "      <td>Gladiator</td>\n",
       "      <td>White</td>\n",
       "      <td>//cdnblob.fastly.carvana.io/2002283983/post-la...</td>\n",
       "      <td>Jeep</td>\n",
       "      <td>Used 2021 Jeep Gladiator Mojave 5 ft with 3961...</td>\n",
       "      <td>3961</td>\n",
       "      <td>2002283983</td>\n",
       "      <td>1C6JJTEG2ML593381</td>\n",
       "      <td>$50,990</td>\n",
       "      <td>2021 Jeep Gladiator Mojave 5 ft</td>\n",
       "      <td>Mojave 5 ft</td>\n",
       "    </tr>\n",
       "    <tr>\n",
       "      <th>3</th>\n",
       "      <td>2022 Chevrolet Equinox</td>\n",
       "      <td>2022</td>\n",
       "      <td>Chevrolet</td>\n",
       "      <td>Equinox</td>\n",
       "      <td>White</td>\n",
       "      <td>//cdnblob.fastly.carvana.io/2002276173/post-la...</td>\n",
       "      <td>Chevrolet</td>\n",
       "      <td>Used 2022 Chevrolet Equinox LS with 1207 miles...</td>\n",
       "      <td>1207</td>\n",
       "      <td>2002276173</td>\n",
       "      <td>3GNAXHEV8NS214535</td>\n",
       "      <td>$28,990</td>\n",
       "      <td>2022 Chevrolet Equinox LS</td>\n",
       "      <td>LS</td>\n",
       "    </tr>\n",
       "    <tr>\n",
       "      <th>4</th>\n",
       "      <td>2021 Kia Seltos</td>\n",
       "      <td>2021</td>\n",
       "      <td>Kia</td>\n",
       "      <td>Seltos</td>\n",
       "      <td>Black</td>\n",
       "      <td>//cdnblob.fastly.carvana.io/2002305519/post-la...</td>\n",
       "      <td>Kia</td>\n",
       "      <td>Used 2021 Kia Seltos LX with 19768 miles - $25...</td>\n",
       "      <td>19768</td>\n",
       "      <td>2002305519</td>\n",
       "      <td>KNDEPCAA1M7180158</td>\n",
       "      <td>$25,990</td>\n",
       "      <td>2021 Kia Seltos LX</td>\n",
       "      <td>LX</td>\n",
       "    </tr>\n",
       "  </tbody>\n",
       "</table>\n",
       "</div>"
      ],
      "text/plain": [
       "                     name  modelDate manufacturer      model  color  \\\n",
       "0   2021 Maserati Levante       2021     Maserati    Levante  White   \n",
       "1       2019 Jeep Compass       2019         Jeep    Compass  Black   \n",
       "2     2021 Jeep Gladiator       2021         Jeep  Gladiator  White   \n",
       "3  2022 Chevrolet Equinox       2022    Chevrolet    Equinox  White   \n",
       "4         2021 Kia Seltos       2021          Kia     Seltos  Black   \n",
       "\n",
       "                                            imageUrl      brand  \\\n",
       "0  //cdnblob.fastly.carvana.io/2002115999/post-la...   Maserati   \n",
       "1  //cdnblob.fastly.carvana.io/2002315866/post-la...       Jeep   \n",
       "2  //cdnblob.fastly.carvana.io/2002283983/post-la...       Jeep   \n",
       "3  //cdnblob.fastly.carvana.io/2002276173/post-la...  Chevrolet   \n",
       "4  //cdnblob.fastly.carvana.io/2002305519/post-la...        Kia   \n",
       "\n",
       "                                         description  mileageFromOdometer  \\\n",
       "0  Used 2021 Maserati Levante S GranLusso with 19...                19722   \n",
       "1  Used 2019 Jeep Compass Upland with 21642 miles...                21642   \n",
       "2  Used 2021 Jeep Gladiator Mojave 5 ft with 3961...                 3961   \n",
       "3  Used 2022 Chevrolet Equinox LS with 1207 miles...                 1207   \n",
       "4  Used 2021 Kia Seltos LX with 19768 miles - $25...                19768   \n",
       "\n",
       "          sku vehicleIdentificationNumber     Price  \\\n",
       "0  2002115999           ZN661YUL5MX363075   $61,590   \n",
       "1  2002315866           3C4NJDAB9KT854078   $25,990   \n",
       "2  2002283983           1C6JJTEG2ML593381   $50,990   \n",
       "3  2002276173           3GNAXHEV8NS214535   $28,990   \n",
       "4  2002305519           KNDEPCAA1M7180158   $25,990   \n",
       "\n",
       "                            desc_new         Trim  \n",
       "0  2021 Maserati Levante S GranLusso  S GranLusso  \n",
       "1           2019 Jeep Compass Upland       Upland  \n",
       "2    2021 Jeep Gladiator Mojave 5 ft  Mojave 5 ft  \n",
       "3          2022 Chevrolet Equinox LS           LS  \n",
       "4                 2021 Kia Seltos LX           LX  "
      ]
     },
     "execution_count": 10,
     "metadata": {},
     "output_type": "execute_result"
    }
   ],
   "source": [
    "df.head()"
   ]
  },
  {
   "cell_type": "code",
   "execution_count": 9,
   "metadata": {},
   "outputs": [
    {
     "data": {
      "text/plain": [
       "Index(['name', 'modelDate', 'manufacturer', 'model', 'color', 'imageUrl',\n",
       "       'brand', 'description', 'mileageFromOdometer', 'sku',\n",
       "       'vehicleIdentificationNumber', 'Price', 'desc_new', 'Trim'],\n",
       "      dtype='object')"
      ]
     },
     "execution_count": 9,
     "metadata": {},
     "output_type": "execute_result"
    }
   ],
   "source": [
    "df.columns"
   ]
  },
  {
   "cell_type": "code",
   "execution_count": null,
   "metadata": {},
   "outputs": [],
   "source": []
  }
 ],
 "metadata": {
  "kernelspec": {
   "display_name": "base",
   "language": "python",
   "name": "python3"
  },
  "language_info": {
   "codemirror_mode": {
    "name": "ipython",
    "version": 3
   },
   "file_extension": ".py",
   "mimetype": "text/x-python",
   "name": "python",
   "nbconvert_exporter": "python",
   "pygments_lexer": "ipython3",
   "version": "3.9.13"
  },
  "orig_nbformat": 4
 },
 "nbformat": 4,
 "nbformat_minor": 2
}
