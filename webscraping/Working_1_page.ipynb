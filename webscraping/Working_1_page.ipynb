{
 "cells": [
  {
   "cell_type": "code",
   "execution_count": 1,
   "metadata": {},
   "outputs": [],
   "source": [
    "import requests\n",
    "from bs4 import BeautifulSoup\n",
    "import pandas as pd\n",
    "import time\n",
    "import json\n",
    "import itertools"
   ]
  },
  {
   "cell_type": "code",
   "execution_count": 2,
   "metadata": {},
   "outputs": [],
   "source": [
    "base_url = 'https://www.carvana.com/cars/filters/?cvnaid=eyJpc0ZyZWVEZWxpdmVyeSI6ZmFsc2UsIm1pbGVhZ2UiOnsibWluIjoxMCwibWF4IjoyNTA3NX0sInllYXIiOnsibWluIjoyMDIwLCJtYXgiOjIwMjN9fQ==&email-capture=&page='\n",
    "k = []\n",
    "for page in range (15,16):\n",
    "    url_iterated = base_url + str(page)\n",
    "    #print(url_iterated)\n",
    "    downloaded_html_iterated = requests.get(url_iterated)\n",
    "    soup = BeautifulSoup(downloaded_html_iterated.text)\n",
    "    x = soup.find_all(\"script\",attrs={'type':'application/ld+json'})\n",
    "    x = [i.text for i in x]\n",
    "    #x = x.text\n",
    "    #y= x[1:21]\n",
    "    #k.append(x)\n",
    "    #k = x + str(',')\n",
    "    time.sleep(5)"
   ]
  },
  {
   "cell_type": "code",
   "execution_count": 3,
   "metadata": {},
   "outputs": [],
   "source": [
    "#print(list(itertools.chain.from_iterable(k)))"
   ]
  },
  {
   "cell_type": "code",
   "execution_count": 4,
   "metadata": {},
   "outputs": [
    {
     "name": "stdout",
     "output_type": "stream",
     "text": [
      "{'@context': 'https://schema.org', '@type': 'Vehicle', 'itemCondition': 'Used', 'name': '2022 Chevrolet Silverado 1500 Crew Cab', 'modelDate': 2022, 'manufacturer': 'Chevrolet', 'model': 'Silverado 1500 Crew Cab', 'color': 'Blue', 'imageUrl': '//cdnblob.fastly.carvana.io/2002256979/post-large/normalized/zoomcrop/2002256979-edc-02.jpg', 'brand': 'Chevrolet', 'description': 'Used 2022 Chevrolet Silverado 1500 Crew Cab LT 5 3/4 ft with 14591 miles - $45,590', 'mileageFromOdometer': 14591, 'sku': 2002256979, 'vehicleIdentificationNumber': '1GCPDKEK4NZ515563', 'offers': {'@type': 'Offer', 'price': 45590, 'priceCurrency': 'USD', 'availability': 'http://schema.org/InStock', 'priceValidUntil': 'January 1, 2030', 'url': 'https://www.carvana.com/vehicle/2664802'}}\n",
      "{'@context': 'https://schema.org', '@type': 'Vehicle', 'itemCondition': 'Used', 'name': '2020 Honda Accord', 'modelDate': 2020, 'manufacturer': 'Honda', 'model': 'Accord', 'color': 'Black', 'imageUrl': '//cdnblob.fastly.carvana.io/2002328641/post-large/normalized/zoomcrop/2002328641-edc-02.jpg', 'brand': 'Honda', 'description': 'Used 2020 Honda Accord Sport with 22407 miles - $30,590', 'mileageFromOdometer': 22407, 'sku': 2002328641, 'vehicleIdentificationNumber': '1HGCV2F35LA027965', 'offers': {'@type': 'Offer', 'price': 30590, 'priceCurrency': 'USD', 'availability': 'http://schema.org/InStock', 'priceValidUntil': 'January 1, 2030', 'url': 'https://www.carvana.com/vehicle/2710714'}}\n",
      "{'@context': 'https://schema.org', '@type': 'Vehicle', 'itemCondition': 'Used', 'name': '2022 Toyota Camry', 'modelDate': 2022, 'manufacturer': 'Toyota', 'model': 'Camry', 'color': 'White', 'imageUrl': '//cdnblob.fastly.carvana.io/2002291154/post-large/normalized/zoomcrop/2002291154-edc-02.jpg', 'brand': 'Toyota', 'description': 'Used 2022 Toyota Camry TRD with 8806 miles - $39,990', 'mileageFromOdometer': 8806, 'sku': 2002291154, 'vehicleIdentificationNumber': '4T1KZ1AK9NU061492', 'offers': {'@type': 'Offer', 'price': 39990, 'priceCurrency': 'USD', 'availability': 'http://schema.org/InStock', 'priceValidUntil': 'January 1, 2030', 'url': 'https://www.carvana.com/vehicle/2687847'}}\n",
      "{'@context': 'https://schema.org', '@type': 'Vehicle', 'itemCondition': 'Used', 'name': '2020 Ford Ranger SuperCrew', 'modelDate': 2020, 'manufacturer': 'Ford', 'model': 'Ranger SuperCrew', 'color': 'Black', 'imageUrl': '//cdnblob.fastly.carvana.io/2002276248/post-large/normalized/zoomcrop/2002276248-edc-02.jpg', 'brand': 'Ford', 'description': 'Used 2020 Ford Ranger SuperCrew XLT 5 ft with 3933 miles - $37,990', 'mileageFromOdometer': 3933, 'sku': 2002276248, 'vehicleIdentificationNumber': '1FTER4FH3LLA72569', 'offers': {'@type': 'Offer', 'price': 37990, 'priceCurrency': 'USD', 'availability': 'http://schema.org/InStock', 'priceValidUntil': 'January 1, 2030', 'url': 'https://www.carvana.com/vehicle/2676704'}}\n",
      "{'@context': 'https://schema.org', '@type': 'Vehicle', 'itemCondition': 'Used', 'name': '2022 Honda Pilot', 'modelDate': 2022, 'manufacturer': 'Honda', 'model': 'Pilot', 'color': 'Gray', 'imageUrl': '//cdnblob.fastly.carvana.io/2002308427/post-large/2002308427-edc-02-search.jpg', 'brand': 'Honda', 'description': 'Used 2022 Honda Pilot Special Edition with 22206 miles - $37,665', 'mileageFromOdometer': 22206, 'sku': 2002308427, 'vehicleIdentificationNumber': '5FNYF6H25NB053697', 'offers': {'@type': 'Offer', 'price': 37665, 'priceCurrency': 'USD', 'availability': 'http://schema.org/InStock', 'priceValidUntil': 'January 1, 2030', 'url': 'https://www.carvana.com/vehicle/2701988'}}\n",
      "{'@context': 'https://schema.org', '@type': 'Vehicle', 'itemCondition': 'Used', 'name': '2021 Audi A5', 'modelDate': 2021, 'manufacturer': 'Audi', 'model': 'A5', 'color': 'Gray', 'imageUrl': '//cdnblob.fastly.carvana.io/2002269892/post-large/normalized/zoomcrop/2002269892-edc-02.jpg', 'brand': 'Audi', 'description': 'Used 2021 Audi A5 Premium Plus with 11495 miles - $44,990', 'mileageFromOdometer': 11495, 'sku': 2002269892, 'vehicleIdentificationNumber': 'WAUFACF53MA029078', 'offers': {'@type': 'Offer', 'price': 44990, 'priceCurrency': 'USD', 'availability': 'http://schema.org/InStock', 'priceValidUntil': 'January 1, 2030', 'url': 'https://www.carvana.com/vehicle/2676685'}}\n",
      "{'@context': 'https://schema.org', '@type': 'Vehicle', 'itemCondition': 'Used', 'name': '2020 Mercedes-Benz GLE', 'modelDate': 2020, 'manufacturer': 'Mercedes-Benz', 'model': 'GLE', 'color': 'Gray', 'imageUrl': '//cdnblob.fastly.carvana.io/2002260818/post-large/normalized/zoomcrop/2002260818-edc-02.jpg', 'brand': 'Mercedes-Benz', 'description': 'Used 2020 Mercedes-Benz GLE GLE 350 4MATIC with 25000 miles - $49,590', 'mileageFromOdometer': 25000, 'sku': 2002260818, 'vehicleIdentificationNumber': '4JGFB4KB0LA076709', 'offers': {'@type': 'Offer', 'price': 49590, 'priceCurrency': 'USD', 'availability': 'http://schema.org/InStock', 'priceValidUntil': 'January 1, 2030', 'url': 'https://www.carvana.com/vehicle/2666696'}}\n",
      "{'@context': 'https://schema.org', '@type': 'Vehicle', 'itemCondition': 'Used', 'name': '2022 Jeep Grand Cherokee', 'modelDate': 2022, 'manufacturer': 'Jeep', 'model': 'Grand Cherokee', 'color': 'White', 'imageUrl': '//cdnblob.fastly.carvana.io/2002248665/post-large/2002248665-edc-02-search.jpg', 'brand': 'Jeep', 'description': 'Used 2022 Jeep Grand Cherokee All New Limited with 15952 miles - $43,595', 'mileageFromOdometer': 15952, 'sku': 2002248665, 'vehicleIdentificationNumber': '1C4RJHBG8N8593225', 'offers': {'@type': 'Offer', 'price': 43595, 'priceCurrency': 'USD', 'availability': 'http://schema.org/InStock', 'priceValidUntil': 'January 1, 2030', 'url': 'https://www.carvana.com/vehicle/2666283'}}\n",
      "{'@context': 'https://schema.org', '@type': 'Vehicle', 'itemCondition': 'Used', 'name': '2021 Chevrolet Camaro', 'modelDate': 2021, 'manufacturer': 'Chevrolet', 'model': 'Camaro', 'color': 'White', 'imageUrl': '//cdnblob.fastly.carvana.io/2002216250/post-large/normalized/zoomcrop/2002216250-edc-02.jpg', 'brand': 'Chevrolet', 'description': 'Used 2021 Chevrolet Camaro LT with 17028 miles - $28,990', 'mileageFromOdometer': 17028, 'sku': 2002216250, 'vehicleIdentificationNumber': '1G1FA1RX2M0122161', 'offers': {'@type': 'Offer', 'price': 28990, 'priceCurrency': 'USD', 'availability': 'http://schema.org/InStock', 'priceValidUntil': 'January 1, 2030', 'url': 'https://www.carvana.com/vehicle/2638586'}}\n",
      "{'@context': 'https://schema.org', '@type': 'Vehicle', 'itemCondition': 'Used', 'name': '2020 Porsche Cayenne', 'modelDate': 2020, 'manufacturer': 'Porsche', 'model': 'Cayenne', 'color': 'White', 'imageUrl': '//cdnblob.fastly.carvana.io/2002242782/post-large/normalized/zoomcrop/2002242782-edc-02.jpg', 'brand': 'Porsche', 'description': 'Used 2020 Porsche Cayenne E-Hybrid with 8468 miles - $78,590', 'mileageFromOdometer': 8468, 'sku': 2002242782, 'vehicleIdentificationNumber': 'WP1AE2AY7LDA22210', 'offers': {'@type': 'Offer', 'price': 78590, 'priceCurrency': 'USD', 'availability': 'http://schema.org/InStock', 'priceValidUntil': 'January 1, 2030', 'url': 'https://www.carvana.com/vehicle/2654803'}}\n",
      "{'@context': 'https://schema.org', '@type': 'Vehicle', 'itemCondition': 'Used', 'name': '2023 Ford Mustang', 'modelDate': 2023, 'manufacturer': 'Ford', 'model': 'Mustang', 'color': 'Black', 'imageUrl': '//cdnblob.fastly.carvana.io/2002316696/post-large/normalized/zoomcrop/2002316696-edc-02.jpg', 'brand': 'Ford', 'description': 'Used 2023 Ford Mustang EcoBoost with 508 miles - $34,590', 'mileageFromOdometer': 508, 'sku': 2002316696, 'vehicleIdentificationNumber': '1FA6P8TH2P5100934', 'offers': {'@type': 'Offer', 'price': 34590, 'priceCurrency': 'USD', 'availability': 'http://schema.org/InStock', 'priceValidUntil': 'January 1, 2030', 'url': 'https://www.carvana.com/vehicle/2706210'}}\n",
      "{'@context': 'https://schema.org', '@type': 'Vehicle', 'itemCondition': 'Used', 'name': '2022 Toyota Corolla Hatchback', 'modelDate': 2022, 'manufacturer': 'Toyota', 'model': 'Corolla Hatchback', 'color': 'Red', 'imageUrl': '//cdnblob.fastly.carvana.io/2002288490/post-large/normalized/zoomcrop/2002288490-edc-02.jpg', 'brand': 'Toyota', 'description': 'Used 2022 Toyota Corolla Hatchback SE with 9301 miles - $27,590', 'mileageFromOdometer': 9301, 'sku': 2002288490, 'vehicleIdentificationNumber': 'JTND4MBE1N3157933', 'offers': {'@type': 'Offer', 'price': 27590, 'priceCurrency': 'USD', 'availability': 'http://schema.org/InStock', 'priceValidUntil': 'January 1, 2030', 'url': 'https://www.carvana.com/vehicle/2684019'}}\n",
      "{'@context': 'https://schema.org', '@type': 'Vehicle', 'itemCondition': 'Used', 'name': '2022 Toyota Corolla Cross', 'modelDate': 2022, 'manufacturer': 'Toyota', 'model': 'Corolla Cross', 'color': 'White', 'imageUrl': '//cdnblob.fastly.carvana.io/2002250861/post-large/normalized/zoomcrop/2002250861-edc-02.jpg', 'brand': 'Toyota', 'description': 'Used 2022 Toyota Corolla Cross XLE with 19817 miles - $32,990', 'mileageFromOdometer': 19817, 'sku': 2002250861, 'vehicleIdentificationNumber': '7MUEAABG5NV008463', 'offers': {'@type': 'Offer', 'price': 32990, 'priceCurrency': 'USD', 'availability': 'http://schema.org/InStock', 'priceValidUntil': 'January 1, 2030', 'url': 'https://www.carvana.com/vehicle/2661334'}}\n",
      "{'@context': 'https://schema.org', '@type': 'Vehicle', 'itemCondition': 'Used', 'name': '2021 Mercedes-Benz CLA', 'modelDate': 2021, 'manufacturer': 'Mercedes-Benz', 'model': 'CLA', 'color': 'Silver', 'imageUrl': '//cdnblob.fastly.carvana.io/2002299351/post-large/normalized/zoomcrop/2002299351-edc-02.jpg', 'brand': 'Mercedes-Benz', 'description': 'Used 2021 Mercedes-Benz CLA CLA 250 with 7047 miles - $42,990', 'mileageFromOdometer': 7047, 'sku': 2002299351, 'vehicleIdentificationNumber': 'W1K5J4GB8MN183521', 'offers': {'@type': 'Offer', 'price': 42990, 'priceCurrency': 'USD', 'availability': 'http://schema.org/InStock', 'priceValidUntil': 'January 1, 2030', 'url': 'https://www.carvana.com/vehicle/2688955'}}\n",
      "{'@context': 'https://schema.org', '@type': 'Vehicle', 'itemCondition': 'Used', 'name': '2023 Kia Sportage Hybrid', 'modelDate': 2023, 'manufacturer': 'Kia', 'model': 'Sportage Hybrid', 'color': 'Black', 'imageUrl': '//cdnblob.fastly.carvana.io/2002319068/post-large/normalized/zoomcrop/2002319068-edc-02.jpg', 'brand': 'Kia', 'description': 'Used 2023 Kia Sportage Hybrid LX with 1762 miles - $36,990', 'mileageFromOdometer': 1762, 'sku': 2002319068, 'vehicleIdentificationNumber': 'KNDPU3AG4P7058873', 'offers': {'@type': 'Offer', 'price': 36990, 'priceCurrency': 'USD', 'availability': 'http://schema.org/InStock', 'priceValidUntil': 'January 1, 2030', 'url': 'https://www.carvana.com/vehicle/2702190'}}\n",
      "{'@context': 'https://schema.org', '@type': 'Vehicle', 'itemCondition': 'Used', 'name': '2022 BMW 4 Series', 'modelDate': 2022, 'manufacturer': 'BMW', 'model': '4 Series', 'color': 'Orange', 'imageUrl': '//cdnblob.fastly.carvana.io/2002294606/post-large/normalized/zoomcrop/2002294606-edc-02.jpg', 'brand': 'BMW', 'description': 'Used 2022 BMW 4 Series 430i with 4622 miles - $47,590', 'mileageFromOdometer': 4622, 'sku': 2002294606, 'vehicleIdentificationNumber': 'WBA53AP0XNCK17941', 'offers': {'@type': 'Offer', 'price': 47590, 'priceCurrency': 'USD', 'availability': 'http://schema.org/InStock', 'priceValidUntil': 'January 1, 2030', 'url': 'https://www.carvana.com/vehicle/2691251'}}\n",
      "{'@context': 'https://schema.org', '@type': 'Vehicle', 'itemCondition': 'Used', 'name': '2022 Chevrolet Traverse', 'modelDate': 2022, 'manufacturer': 'Chevrolet', 'model': 'Traverse', 'color': 'Red', 'imageUrl': '//cdnblob.fastly.carvana.io/2002258800/post-large/2002258800-edc-02-search.jpg', 'brand': 'Chevrolet', 'description': 'Used 2022 Chevrolet Traverse RS with 19649 miles - $42,975', 'mileageFromOdometer': 19649, 'sku': 2002258800, 'vehicleIdentificationNumber': '1GNEVJKW5NJ163539', 'offers': {'@type': 'Offer', 'price': 42975, 'priceCurrency': 'USD', 'availability': 'http://schema.org/InStock', 'priceValidUntil': 'January 1, 2030', 'url': 'https://www.carvana.com/vehicle/2678601'}}\n",
      "{'@context': 'https://schema.org', '@type': 'Vehicle', 'itemCondition': 'Used', 'name': '2021 BMW 4 Series', 'modelDate': 2021, 'manufacturer': 'BMW', 'model': '4 Series', 'color': 'Blue', 'imageUrl': '//cdnblob.fastly.carvana.io/2002210554/post-large/normalized/zoomcrop/2002210554-edc-02.jpg', 'brand': 'BMW', 'description': 'Used 2021 BMW 4 Series M440i xDrive with 21378 miles - $54,990', 'mileageFromOdometer': 21378, 'sku': 2002210554, 'vehicleIdentificationNumber': 'WBA13AR09MCF22263', 'offers': {'@type': 'Offer', 'price': 54990, 'priceCurrency': 'USD', 'availability': 'http://schema.org/InStock', 'priceValidUntil': 'January 1, 2030', 'url': 'https://www.carvana.com/vehicle/2636462'}}\n",
      "{'@context': 'https://schema.org', '@type': 'Vehicle', 'itemCondition': 'Used', 'name': '2022 Dodge Challenger', 'modelDate': 2022, 'manufacturer': 'Dodge', 'model': 'Challenger', 'color': 'Red', 'imageUrl': '//cdnblob.fastly.carvana.io/2002278674/post-large/2002278674-edc-02-search.jpg', 'brand': 'Dodge', 'description': 'Used 2022 Dodge Challenger GT with 17516 miles - $32,549', 'mileageFromOdometer': 17516, 'sku': 2002278674, 'vehicleIdentificationNumber': '2C3CDZJG9NH159673', 'offers': {'@type': 'Offer', 'price': 32549, 'priceCurrency': 'USD', 'availability': 'http://schema.org/InStock', 'priceValidUntil': 'January 1, 2030', 'url': 'https://www.carvana.com/vehicle/2692688'}}\n",
      "{'@context': 'https://schema.org', '@type': 'Vehicle', 'itemCondition': 'Used', 'name': '2022 Chevrolet Silverado 1500 Limited Crew Cab', 'modelDate': 2022, 'manufacturer': 'Chevrolet', 'model': 'Silverado 1500 Limited Crew Cab', 'color': 'Gray', 'imageUrl': '//cdnblob.fastly.carvana.io/2002329695/post-large/normalized/zoomcrop/2002329695-edc-02.jpg', 'brand': 'Chevrolet', 'description': 'Used 2022 Chevrolet Silverado 1500 Limited Crew Cab Custom 5 3/4 ft with 5549 miles - $43,590', 'mileageFromOdometer': 5549, 'sku': 2002329695, 'vehicleIdentificationNumber': '1GCPYBEK0NZ126228', 'offers': {'@type': 'Offer', 'price': 43590, 'priceCurrency': 'USD', 'availability': 'http://schema.org/InStock', 'priceValidUntil': 'January 1, 2030', 'url': 'https://www.carvana.com/vehicle/2709310'}}\n",
      "{'@context': 'https://schema.org', '@type': 'BreadcrumbList', 'itemListElement': [{'@type': 'ListItem', 'position': 0, 'item': {'@id': 'https://www.carvana.com/cars/undefined', 'name': '2020-2023'}}]}\n"
     ]
    }
   ],
   "source": [
    "\n",
    "for i in range(len(x)):\n",
    "  g = x[i]\n",
    "  myobject2 = json.loads(g)\n",
    "  #json_object = json.dumps(myobject2, indent = 4) \n",
    "  k.append(myobject2)\n",
    "  print(myobject2)"
   ]
  },
  {
   "cell_type": "code",
   "execution_count": 5,
   "metadata": {},
   "outputs": [],
   "source": [
    "df = pd.DataFrame.from_dict(k)"
   ]
  },
  {
   "cell_type": "code",
   "execution_count": 7,
   "metadata": {},
   "outputs": [],
   "source": [
    "df.to_csv(\"Car_data15_20.csv\")"
   ]
  }
 ],
 "metadata": {
  "kernelspec": {
   "display_name": "base",
   "language": "python",
   "name": "python3"
  },
  "language_info": {
   "codemirror_mode": {
    "name": "ipython",
    "version": 3
   },
   "file_extension": ".py",
   "mimetype": "text/x-python",
   "name": "python",
   "nbconvert_exporter": "python",
   "pygments_lexer": "ipython3",
   "version": "3.9.13"
  },
  "orig_nbformat": 4
 },
 "nbformat": 4,
 "nbformat_minor": 2
}
